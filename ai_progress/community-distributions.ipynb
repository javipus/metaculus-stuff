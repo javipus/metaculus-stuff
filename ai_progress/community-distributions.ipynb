{
  "nbformat": 4,
  "nbformat_minor": 0,
  "metadata": {
    "colab": {
      "name": "Relating Metaculus community distributions: Infections, Deaths, and IFR",
      "provenance": [],
      "collapsed_sections": []
    },
    "kernelspec": {
      "display_name": "Python 3",
      "language": "python",
      "name": "python3"
    },
    "language_info": {
      "codemirror_mode": {
        "name": "ipython",
        "version": 3
      },
      "file_extension": ".py",
      "mimetype": "text/x-python",
      "name": "python",
      "nbconvert_exporter": "python",
      "pygments_lexer": "ipython3",
      "version": "3.8.1-final"
    }
  },
  "cells": [
    {
      "source": [
        "# TODOs\n",
        "1. Community prediction is systematically biased and underconfident. You need to quantify by how much and exploit it!"
      ],
      "cell_type": "markdown",
      "metadata": {}
    },
    {
      "cell_type": "code",
      "metadata": {
        "colab_type": "code",
        "id": "nhanawyV4JEb",
        "colab": {}
      },
      "source": [
        "import ergo\n",
        "import datetime\n",
        "import seaborn\n",
        "import numpy as np\n",
        "import pandas as pd\n",
        "\n",
        "from KEYS import USERNAME, PASSWORD"
      ],
      "execution_count": 1,
      "outputs": [
        {
          "output_type": "error",
          "ename": "ModuleNotFoundError",
          "evalue": "No module named 'ergo'",
          "traceback": [
            "\u001b[0;31m---------------------------------------------------------------------------\u001b[0m",
            "\u001b[0;31mModuleNotFoundError\u001b[0m                       Traceback (most recent call last)",
            "\u001b[0;32m<ipython-input-1-23a2bf9cb9e0>\u001b[0m in \u001b[0;36m<module>\u001b[0;34m\u001b[0m\n\u001b[0;32m----> 1\u001b[0;31m \u001b[0;32mimport\u001b[0m \u001b[0mergo\u001b[0m\u001b[0;34m\u001b[0m\u001b[0;34m\u001b[0m\u001b[0m\n\u001b[0m\u001b[1;32m      2\u001b[0m \u001b[0;32mimport\u001b[0m \u001b[0mdatetime\u001b[0m\u001b[0;34m\u001b[0m\u001b[0;34m\u001b[0m\u001b[0m\n\u001b[1;32m      3\u001b[0m \u001b[0;32mimport\u001b[0m \u001b[0mseaborn\u001b[0m\u001b[0;34m\u001b[0m\u001b[0;34m\u001b[0m\u001b[0m\n\u001b[1;32m      4\u001b[0m \u001b[0;32mimport\u001b[0m \u001b[0mnumpy\u001b[0m \u001b[0;32mas\u001b[0m \u001b[0mnp\u001b[0m\u001b[0;34m\u001b[0m\u001b[0;34m\u001b[0m\u001b[0m\n\u001b[1;32m      5\u001b[0m \u001b[0;32mimport\u001b[0m \u001b[0mpandas\u001b[0m \u001b[0;32mas\u001b[0m \u001b[0mpd\u001b[0m\u001b[0;34m\u001b[0m\u001b[0;34m\u001b[0m\u001b[0m\n",
            "\u001b[0;31mModuleNotFoundError\u001b[0m: No module named 'ergo'"
          ]
        }
      ]
    },
    {
      "source": [
        "## Parameters"
      ],
      "cell_type": "markdown",
      "metadata": {}
    },
    {
      "cell_type": "code",
      "execution_count": 2,
      "metadata": {},
      "outputs": [],
      "source": [
        "CATS = [\n",
        "    \"series--maximum-likelihood\",\n",
        "    \"series--hill-climbing\",\n",
        "]\n",
        "\n",
        "# 20 qs/page, so this assumes <40 questions per round, in line with the \"approximately 30\" stated in the rules\n",
        "# change accordingly if it fails\n",
        "N_PAGES = 2\n",
        "\n",
        "# kinda slow but it's worth it\n",
        "N_SAMPLES = int(10e3)"
      ]
    },
    {
      "source": [
        "## Main functions"
      ],
      "cell_type": "markdown",
      "metadata": {}
    },
    {
      "cell_type": "code",
      "execution_count": 3,
      "metadata": {},
      "outputs": [],
      "source": [
        "is_continuous = lambda q: q.data['possibilities']['type'] == 'continuous'\n",
        "is_binary = lambda q: q.data['possibilities']['type'] == 'binary'\n",
        "is_open = lambda q:\\\n",
        "    datetime.datetime.strptime(q.data['publish_time'], '%Y-%m-%dT%H:%M:%SZ') <\\\n",
        "    datetime.datetime.utcnow() <\\\n",
        "    datetime.datetime.strptime(q.data['close_time'], '%Y-%m-%dT%H:%M:%SZ')\n",
        "\n",
        "def default_to_community_cont(question, n_samples):\n",
        "    \"\"\"Defaults to community distribution for continuous questions\"\"\"\n",
        "    samples = np.array([question.sample_community() for _ in range(n_samples)])\n",
        "    question.submit_from_samples(samples)\n",
        "\n",
        "def default_to_community_bin(question):\n",
        "    \"\"\"Defaults to community prediction for binary questions\"\"\"\n",
        "    p = question.get_community_prediction()\n",
        "    question.submit(p)\n",
        "\n",
        "def default_to_community(question, n_samples=None):\n",
        "    if is_open(question):\n",
        "        if is_binary(question):\n",
        "            default_to_community_bin(question)\n",
        "        elif is_continuous:\n",
        "            if n_samples is None:\n",
        "                raise ValueError(\"n_samples can't be None for continuous questions\")\n",
        "            default_to_community_cont(question, n_samples)\n",
        "        else:\n",
        "            print(f\"Question {question.id} is of type {q.data['possibilities'].get('type')} and cannot be predicted\")\n",
        "    else:\n",
        "        print(f\"Question {question.id} is not open!\")"
      ]
    },
    {
      "source": [
        "## Login"
      ],
      "cell_type": "markdown",
      "metadata": {}
    },
    {
      "cell_type": "code",
      "metadata": {
        "colab_type": "code",
        "id": "1ir2AZDC4mdE",
        "colab": {}
      },
      "source": [
        "metaculus = ergo.Metaculus()\n",
        "metaculus.login_via_username_and_password(\n",
        "    username=USERNAME,\n",
        "    password=PASSWORD\n",
        ")"
      ],
      "execution_count": 4,
      "outputs": []
    },
    {
      "cell_type": "markdown",
      "metadata": {
        "colab_type": "text",
        "id": "YN_C7IHb4KEX"
      },
      "source": [
        "## Load questions"
      ]
    },
    {
      "cell_type": "code",
      "execution_count": 5,
      "metadata": {},
      "outputs": [],
      "source": [
        "qs = []\n",
        "for cat in CATS:\n",
        "    qs.extend(metaculus.get_questions(cat=cat, pages=N_PAGES))"
      ]
    },
    {
      "source": [
        "## Submit"
      ],
      "cell_type": "markdown",
      "metadata": {}
    },
    {
      "cell_type": "code",
      "execution_count": 6,
      "metadata": {},
      "outputs": [
        {
          "output_type": "stream",
          "name": "stdout",
          "text": [
            "5939: What percent will software and information services contribute to US GDP in Q1 of 2021?\n",
            "5958: What percent will software and information services contribute to US GDP in Q4 of 2030?\n",
            "5888: How many Computer Vision and Pattern Recognition e-prints will be published on arXiv over the 2020-12-14 to 2021-06-14 period?\n",
            "5951: What will the average top price performance (in G3D Mark /$) of the best available GPU be, on December 14, 2026?\n",
            "5960: What will the Federal Reserves' Industrial Production Index be for December 2026, for semiconductors, printed circuit boards and related products?\n",
            "5961: How many Reinforcement Learning e-prints will be published on arXiv over the 2020-12-14 to 2031-01-01 period?\n",
            "5965: What will the value of the herein defined Object Detection Performance Index be on 2021-06-14?\n",
            "5901: How many Reinforcement Learning e-prints will be published on arXiv over the 2020-12-14 to 2021-06-14 period?\n",
            "5897: What will the state-of-the-art performance on semantic segmentation on Cityscapes be at 2021-06-14 in mean IoU in percent (MIoU%)?\n",
            "5899: How many e-prints on AI Safety, Interpretability or Explainability will be published on arXiv from 2021 through 2026?\n",
            "5900: How many e-prints on Few-Shot Learning will be published on arXiv over the 2020-12-14 to 2021-06-14 period?\n",
            "5903: What will the state-of-the-art object detection performance on COCO be, at 2021-06-14 in Average Precision (AP)?\n",
            "5904: What will the value of the herein defined Image Classification Performance Index be on 2021-06-14?\n",
            "5911: What will the Federal Reserves' Industrial Production Index be for April 2021, for semiconductors, printed circuit boards and related products?\n",
            "5936: What will the price of IGM be, on 2021-06-14?\n",
            "5949: What will the the sum of the level of performance (in exaFLOPS) of the all 500 supercomputers in the TOP500 be according to their November 2026 list?\n",
            "5871: What will the average top price performance (in G3D Mark /$) of the best available GPU be, on June 14, 2021?\n",
            "5872: What will the the sum of the level of performance (in exaFLOPS) of the all 500 supercomputers in the TOP500 be according to their June 2021 list?\n",
            "5889: How many Computation and Language e-prints will be published on arXiv over the 2020-12-14 to 2021-06-14 period?\n",
            "5891: What share (in %) of the world's super-compute performance will  United States-based in the June 2021 TOP500 list?\n",
            "5898: What will the state-of-the-art performance on image classification on ImageNet be at 2021-06-14 in top-1 accuracy?\n",
            "5940: What will the highest Exact Match rate of the best-performing model on SQuAD2.0 be on 2021-06-14?\n",
            "5941: What will the state-of-the-art language text-to-SQL performance on WikiSQL be at 2021-06-14 in logical form test accuracy?\n",
            "5947: What will the state-of-the-art language modelling performance on WikiText-103 be at 2026-12-14 in perplexity?\n",
            "5948: What will the value of the herein defined Image Classification Performance Index be on 2026-12-14?\n",
            "5950: What share (in %) of the world's super-compute performance will  United States-based in the June 2030 TOP500 list?\n",
            "5962: How many e-prints on Few-Shot Learning will be published on arXiv over the 2020-01-01 to 2027-01-01 period?\n",
            "5896: What will the state-of-the-art performance on semantic segmentation of PASCAL-Context be at 2021-06-14 in mean IoU in percent (MIoU%)?\n",
            "5924: What will the state-of-the-art language modelling performance on WikiText-103 be at 2021-06-14 in perplexity?\n",
            "5937: What will the state-of-the-art performance on SuperGLUE be on 2021-06-14?\n",
            "5946: What will the state-of-the-art performance on image classification on ImageNet be at 2024-12-14 in top-1 accuracy?\n",
            "5894: How many e-prints on AI Safety, Interpretability or Explainability will be published on arXiv over the 2020-12-14 to 2021-06-14 period?\n",
            "5935: What will the combined sector weighting of Information Technology and Communications be, in the S&P 500 on 2021-06-14?\n",
            "5938: How many e-prints on multi-modal machine learning will be published on arXiv over the 2020-12-14 to 2021-06-14 period?\n",
            "5955: What will Alphabet Inc.'s market capitalisation be at market close on 2026-12-14 in 2020 USD?\n",
            "5902: What will the state-of-the-art performance on one-shot image classification on MiniImageNet be, on 2021-06-14, in accuracy?\n",
            "6300: How many Reinforcement Learning e-prints will be published on arXiv over the 2021-01-14 to 2027-01-01 period?\n",
            "Question 6300 is not open!\n",
            "6236: How much will the average degree of automation change for key US professions change from December 2020 to December 2026?\n",
            "6245: How many e-prints on Few-Shot Learning will be published on ArXiv over the 2021-01-14 to 2022-01-14 period?\n",
            "6248: What will the state-of-the-art object detection performance on COCO be, at 2022-01-14 in average precision (AP)?\n",
            "6249: What will the Federal Reserves' Industrial Production Index be for November 2021, for semiconductors, printed circuit boards and related products?\n",
            "6250: How many Reinforcement Learning e-prints will be published on arXiv over the 2021-01-14 to 2022-01-14 period?\n",
            "6255: What will the price of IGM be, on 2030-12-13, in 2019 USD?\n",
            "6256: What will the median annual wage for Computer and Information Research Scientists be in the United states in 2029, in 2019 USD?\n",
            "6298: How many Computer Vision and Pattern Recognition e-prints will be published on arXiv over the 2021-01-14 to 2022-01-14 period?\n",
            "6157: How many e-prints on AI Safety, Interpretability or Explainability will be published on arXiv over the 2021-01-14 to 2022-01-14 period?\n",
            "6184: What will the highest Exact Match rate of the best-performing model on SQuAD2.0 be on 2022-01-14?\n",
            "6185: How many e-prints on multi-modal learning will be published on ArXiv over the 2021-12-14 to 2022-01-14 period?\n",
            "6191: What will the state-of-the-art performance on one-shot image classification on miniImageNet be, at 2022-01-14 in accuracy?\n",
            "6227: What will the state-of-the-art performance on semantic segmentation on Cityscapes be at 2022-01-14 in mean IoU in percent (MIoU%)?\n",
            "6231: What will the value of the herein defined Object Detection  Performance Index be on 2022-01-14?\n",
            "6232: What will the the sum of the level of performance (in exaFLOPS) of the all 500 supercomputers in the TOP500 be according to their November 2021 list?\n",
            "6240: What will the combined sector weighting of Information Technology and Communications be, in the S&P 500 on 2022-01-14?\n",
            "6192: By January 1st 2031, what will be the maximum compute (measured in petaFLOPS-days), used in training in an AI experiment?\n",
            "6228: What will the state-of-the-art performance on image classification on ImageNet be at 2026-12-14 in top-1 accuracy?\n",
            "6230: What will the highest score be, on Atari 2600 Montezuma's Revenge, by any ML model that is un-augmented with domain knowledge on 2022-01-14?\n",
            "6233: What share (in %) of the world's super-compute performance will be based in the United States in the November 2026 publication of TOP500 list?\n",
            "6234: What will the the performance be of the top-performing supercomputer (in exaFLOPS) in the TOP500 be according to their June 2030 list?\n",
            "6154: What will the state-of-the-art language modelling performance on One Billion Word be on 2022-01-14, in perplexity?\n",
            "6155: What will the value of the herein defined Image Classification Performance Index be on 2022-01-14?\n",
            "6194: What will the average top price performance (in G3D Mark /$) of the best available GPU be, on Jan 14, 2022?\n",
            "6229: What will the state-of-the-art language modelling performance on WikiText-103 be at 2024-12-14 in perplexity?\n",
            "6148: By January 14 2022, what will be the maximum compute (measured in petaFLOPS-days), used in training in an AI experiment?\n",
            "6149: How much will the average degree of automation change for key US professions from December 2020 to January 2022?\n",
            "6252: What will the value of the herein defined Object Detection  Performance Index be on 2026-12-14?\n",
            "6299: How many Natural Language Processing e-prints will be published on arXiv over the 2021-01-14 to 2030-01-14 period?\n",
            "6301: What percent of total GDP will software and information services contribute to US GDP in Q3 of 2021?\n",
            "6302: What will the state-of-the-art performance on one-shot image classification on miniImageNet be, at 2024-12-14 in accuracy?\n",
            "6182: What will the state-of-the-art language modelling performance on WikiText-103 be at 2022-01-14 in perplexity?\n",
            "6183: What will the state-of-the-art performance on image classification on ImageNet be at 2022-01-14 in top-1 accuracy?\n",
            "6246: How many Natural Language Processing e-prints will be published on arXiv over the 2021-01-14 to 2022-01-14 period?\n",
            "6304: What will the Federal Reserves' Industrial Production Index be for January 2030, for semiconductors, printed circuit boards and related products?\n"
          ]
        }
      ],
      "source": [
        "for q in qs:\n",
        "    print(f\"{q.id}: {q.name}\")\n",
        "    try:\n",
        "        default_to_community(q, n_samples=N_SAMPLES)\n",
        "    except Exception as e:\n",
        "        print(e)\n",
        "        continue"
      ]
    }
  ]
}