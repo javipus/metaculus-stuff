{
 "metadata": {
  "language_info": {
   "codemirror_mode": {
    "name": "ipython",
    "version": 3
   },
   "file_extension": ".py",
   "mimetype": "text/x-python",
   "name": "python",
   "nbconvert_exporter": "python",
   "pygments_lexer": "ipython3",
   "version": "3.8.1-final"
  },
  "orig_nbformat": 2,
  "kernelspec": {
   "name": "python3",
   "display_name": "Python 3"
  }
 },
 "nbformat": 4,
 "nbformat_minor": 2,
 "cells": [
  {
   "cell_type": "markdown",
   "metadata": {},
   "source": [
    "In this notebook I try to produce a prior for metaculus questions based on historical data."
   ]
  },
  {
   "cell_type": "code",
   "execution_count": 24,
   "metadata": {},
   "outputs": [],
   "source": [
    "import json\n",
    "import pandas as pd"
   ]
  },
  {
   "cell_type": "code",
   "execution_count": 6,
   "metadata": {},
   "outputs": [],
   "source": [
    "def safe_json_load(fpath, mode='r'):\n",
    "    with open(fpath, mode) as f:\n",
    "        ret = json.load(f)\n",
    "    return ret\n",
    "\n",
    "def filter_by_type(qs, t=None):\n",
    "    return {k: v for k, v in qs.items() if v['possibilities']['type'] == t} if t is not None else qs\n",
    "\n",
    "def filter_by_resolution(qs, r=None):\n",
    "    return {k: v for k, v in qs.items() if v['resolution'] in r} if r is not None else qs\n",
    "\n",
    "def filter_by_date(qs, date_field, date_low=None, date_high=None):\n",
    "    def cond(date):\n",
    "        if date_low is None and date_high is None:\n",
    "            return True\n",
    "        if date_low is None and date_high is not None:\n",
    "            return date < date_high\n",
    "        if date_low is not None and date_high is None:\n",
    "            return date_low < date\n",
    "        return date_low < date < date_high\n",
    "\n",
    "    return {k: v for k, v in qs.items() if cond(str_to_datetime(v[date_field]))}\n",
    "\n",
    "def filter_qs(qs, **fields):\n",
    "    # TODO this is unacceptably slow bc some of the fields in the questions dict have tons of nested data\n",
    "    # easiest way to fix it is probably to save only pointers to e.g. whole prediction history of a question\n",
    "    # and have a separate json for that\n",
    "    filters = {\n",
    "        'type': lambda qs: filter_by_type(qs, fields.get('type', None)),\n",
    "        'resolution': lambda qs: filter_by_resolution(qs, fields.get('resolution', None)),\n",
    "        'created_time': lambda qs: filter_by_date(qs, 'created_time', fields.get('created_time', (None, None))),\n",
    "        'publish_time': lambda qs: filter_by_date(qs, 'publish_time', fields.get('publish_time', (None, None))),\n",
    "        'close_time': lambda qs: filter_by_date(qs, 'close_time', fields.get('close_time', (None, None))),\n",
    "        'resolve_time': lambda qs: filter_by_date(qs, 'resolve_time', fields.get('resolve_time', (None, None))),\n",
    "        \n",
    "    }\n",
    "\n",
    "    out = qs.copy()\n",
    "\n",
    "    for k in fields:\n",
    "        out = filters[k](out)\n",
    "\n",
    "    return out"
   ]
  },
  {
   "cell_type": "code",
   "execution_count": 20,
   "metadata": {
    "tags": []
   },
   "outputs": [
    {
     "output_type": "stream",
     "name": "stdout",
     "text": "2.54 µs ± 93.2 ns per loop (mean ± std. dev. of 7 runs, 100000 loops each)\n23.1 µs ± 373 ns per loop (mean ± std. dev. of 7 runs, 10000 loops each)\n248 µs ± 12 µs per loop (mean ± std. dev. of 7 runs, 1000 loops each)\n2.41 ms ± 66 µs per loop (mean ± std. dev. of 7 runs, 100 loops each)\n28.7 ms ± 2.17 ms per loop (mean ± std. dev. of 7 runs, 10 loops each)\n"
    }
   ],
   "source": [
    "def comp(n):\n",
    "    return {i: str(i) for i in range(n)}\n",
    "def filter_(d):\n",
    "    return {k: d[k] for k in d if int(d[k])%2 == 0}\n",
    "\n",
    "for k in [10, 100, 1000, 10000, 100000]:\n",
    "    d = comp(k)\n",
    "    %timeit filter_(d)"
   ]
  },
  {
   "cell_type": "code",
   "execution_count": 35,
   "metadata": {
    "tags": []
   },
   "outputs": [
    {
     "output_type": "stream",
     "name": "stdout",
     "text": "Binary questions have a 63.85737439222042% probability of resolving negative\nBinary questions have a 30.956239870340358% probability of resolving positive\nBinary questions have a 5.186385737439222% probability of resolving ambiguous\n"
    }
   ],
   "source": [
    "binqs = {k: qs[k]['resolution'] for k in qs if qs[k]['possibilities']['type'] == 'binary'}\n",
    "resolved_binqs = {k: binqs[k] for k in binqs if binqs[k] is not None}\n",
    "neg, pos, amb = pd.Series(resolved_binqs).value_counts() / len(resolved_binqs)\n",
    "\n",
    "for k, p in {'negative': neg, 'positive': pos, 'ambiguous': amb}.items():\n",
    "    print(f'Binary questions have a {100*p}% probability of resolving {k}')"
   ]
  }
 ]
}